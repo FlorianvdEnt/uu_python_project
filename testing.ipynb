{
 "cells": [
  {
   "cell_type": "code",
   "execution_count": 1,
   "id": "cf534e42",
   "metadata": {},
   "outputs": [],
   "source": [
    "from protein import Protein\n",
    "from forcefield import FF\n",
    "from rotamere import RotamereLib\n",
    "import numpy as np\n",
    "import matplotlib.pyplot as plt"
   ]
  },
  {
   "cell_type": "code",
   "execution_count": 2,
   "id": "3358d61a",
   "metadata": {},
   "outputs": [
    {
     "data": {
      "text/plain": [
       "<rotamere.RotamereLib at 0x7fc83c452e50>"
      ]
     },
     "execution_count": 2,
     "metadata": {},
     "output_type": "execute_result"
    }
   ],
   "source": [
    "RotamereLib()"
   ]
  },
  {
   "cell_type": "code",
   "execution_count": 3,
   "id": "c2994fc6",
   "metadata": {},
   "outputs": [
    {
     "name": "stdout",
     "output_type": "stream",
     "text": [
      "Protein(94 residues, 783 atoms)\n",
      "First residue: 1\n"
     ]
    }
   ],
   "source": [
    "s = Protein('sample.pdb')\n",
    "print(s)\n",
    "print(f'First residue: {s.res_indices[0]}')"
   ]
  },
  {
   "cell_type": "code",
   "execution_count": 4,
   "id": "1afb21ac",
   "metadata": {},
   "outputs": [
    {
     "data": {
      "text/plain": [
       "{'ALA-N': (1.42, 0.08),\n",
       " 'ALA-CA': (1.78, 0.25),\n",
       " 'ALA-CB': (1.96, 0.48),\n",
       " 'ALA-C': (1.4, 0.14),\n",
       " 'ALA-O': (1.48, 0.22),\n",
       " 'ARG-N': (1.42, 0.08),\n",
       " 'ARG-CA': (1.78, 0.25),\n",
       " 'ARG-CB': (1.91, 0.37),\n",
       " 'ARG-CG': (1.91, 0.37),\n",
       " 'ARG-CD': (1.91, 0.37),\n",
       " 'ARG-NE': (1.69, 0.24),\n",
       " 'ARG-CZ': (1.43, 0.07),\n",
       " 'ARG-NH1': (1.69, 0.24),\n",
       " 'ARG-NH2': (1.69, 0.24),\n",
       " 'ARG-C': (1.4, 0.14),\n",
       " 'ARG-O': (1.48, 0.22),\n",
       " 'ASP-N': (1.42, 0.08),\n",
       " 'ASP-CA': (1.78, 0.25),\n",
       " 'ASP-CB': (1.91, 0.37),\n",
       " 'ASP-CG': (1.43, 0.07),\n",
       " 'ASP-OD1': (1.4, 0.07),\n",
       " 'ASP-OD2': (1.4, 0.07),\n",
       " 'ASP-C': (1.4, 0.14),\n",
       " 'ASP-O': (1.48, 0.22)}"
      ]
     },
     "execution_count": 4,
     "metadata": {},
     "output_type": "execute_result"
    }
   ],
   "source": [
    "ff = FF()\n",
    "ff.lj"
   ]
  },
  {
   "cell_type": "code",
   "execution_count": 5,
   "id": "9380e6cb",
   "metadata": {},
   "outputs": [
    {
     "name": "stdout",
     "output_type": "stream",
     "text": [
      "WARNING: missing residue type(s): GLY GLU TRP ILE PRO PHE THR GLN ASN LEU LYS VAL TYR CYS MET SER\n"
     ]
    }
   ],
   "source": [
    "ff.eval_prot(s)"
   ]
  },
  {
   "cell_type": "code",
   "execution_count": 6,
   "id": "1cd578f3",
   "metadata": {},
   "outputs": [
    {
     "data": {
      "text/plain": [
       "(-0.25, 1.5)"
      ]
     },
     "execution_count": 6,
     "metadata": {},
     "output_type": "execute_result"
    },
    {
     "data": {
      "image/png": "[encoded data removed]",
      "text/plain": [
       "<Figure size 432x288 with 1 Axes>"
      ]
     },
     "metadata": {
      "needs_background": "light"
     },
     "output_type": "display_data"
    }
   ],
   "source": [
    "import energy\n",
    "import math\n",
    "\n",
    "def temp(sig_i, eps_i, sig_j, eps_j, r):\n",
    "    sig_ij = sig_i + sig_j\n",
    "    eps_ij = math.sqrt(eps_i * eps_j)\n",
    "    r_star = r / sig_ij\n",
    "    \n",
    "    if 1.9 > r_star >= 1:\n",
    "        r_6 = (1/r)**2\n",
    "        return eps_ij * (r_6**2 - r_6)\n",
    "    else:\n",
    "        return 0\n",
    "\n",
    "r = np.linspace(2.5, 12.0, 500)\n",
    "vdw = np.vectorize(energy.faspr_vdw)\n",
    "\n",
    "# U = vdw(1.96, 0.48, 1.96, 0.48, r)\n",
    "U = []\n",
    "for x in r:\n",
    "    U.append(energy.faspr_vdw(1.96, 0.48, 1.30, 1.00, x))\n",
    "\n",
    "plt.plot(r, U)\n",
    "plt.ylim(-0.25, 1.5)\n"
   ]
  },
  {
   "cell_type": "code",
   "execution_count": 7,
   "id": "531b2a6d",
   "metadata": {},
   "outputs": [
    {
     "data": {
      "text/plain": [
       "16.63658373462491"
      ]
     },
     "execution_count": 7,
     "metadata": {},
     "output_type": "execute_result"
    }
   ],
   "source": [
    "ff.calc_energy(s)"
   ]
  },
  {
   "cell_type": "code",
   "execution_count": null,
   "id": "b5617f75",
   "metadata": {},
   "outputs": [],
   "source": []
  }
 ],
 "metadata": {
  "kernelspec": {
   "display_name": "Python 3",
   "language": "python",
   "name": "python3"
  },
  "language_info": {
   "codemirror_mode": {
    "name": "ipython",
    "version": 3
   },
   "file_extension": ".py",
   "mimetype": "text/x-python",
   "name": "python",
   "nbconvert_exporter": "python",
   "pygments_lexer": "ipython3",
   "version": "3.7.4"
  }
 },
 "nbformat": 4,
 "nbformat_minor": 5
}
